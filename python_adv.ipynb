{
 "cells": [
  {
   "cell_type": "code",
   "execution_count": 1,
   "metadata": {},
   "outputs": [
    {
     "name": "stdout",
     "output_type": "stream",
     "text": [
      "hello\n"
     ]
    }
   ],
   "source": [
    "print('hello')"
   ]
  },
  {
   "cell_type": "code",
   "execution_count": 2,
   "metadata": {},
   "outputs": [
    {
     "data": {
      "text/plain": [
       "'\\n   1.functions\\n'"
      ]
     },
     "execution_count": 2,
     "metadata": {},
     "output_type": "execute_result"
    }
   ],
   "source": [
    "#lets learn today\n",
    "#happy learning!\n",
    "\n",
    "# Topics\n",
    "'''\n",
    "   1.functions\n",
    "'''"
   ]
  },
  {
   "cell_type": "code",
   "execution_count": 3,
   "metadata": {},
   "outputs": [
    {
     "name": "stdout",
     "output_type": "stream",
     "text": [
      "begin\n"
     ]
    }
   ],
   "source": [
    "def fun():\n",
    "    print('begin')\n",
    "\n",
    "fun()"
   ]
  },
  {
   "cell_type": "code",
   "execution_count": 9,
   "metadata": {},
   "outputs": [
    {
     "name": "stdout",
     "output_type": "stream",
     "text": [
      "h e ['l', 'l', 'o']\n",
      "1 2 3\n"
     ]
    }
   ],
   "source": [
    "#packing and unpacking\n",
    "h='hello'\n",
    "a,b,*c=h\n",
    "print(a,b,c)\n",
    "t=(1,2,3)\n",
    "a,b,c=t\n",
    "print(a,b,c)"
   ]
  },
  {
   "cell_type": "code",
   "execution_count": 10,
   "metadata": {},
   "outputs": [],
   "source": [
    "dist1={\n",
    "    1:'Raghu',\n",
    "    2:'Teja',\n",
    "    3:'Sunitha',\n",
    "    4:'Anu'\n",
    "}"
   ]
  },
  {
   "cell_type": "code",
   "execution_count": 11,
   "metadata": {},
   "outputs": [
    {
     "name": "stdout",
     "output_type": "stream",
     "text": [
      "(1, 'Raghu') <class 'tuple'>\n",
      "(2, 'Teja') <class 'tuple'>\n",
      "(3, 'Sunitha') <class 'tuple'>\n",
      "(4, 'Anu') <class 'tuple'>\n"
     ]
    }
   ],
   "source": [
    "for el in dist1.items():\n",
    "    print(el,type(el))"
   ]
  },
  {
   "cell_type": "code",
   "execution_count": 12,
   "metadata": {},
   "outputs": [
    {
     "name": "stdout",
     "output_type": "stream",
     "text": [
      "1 Raghu\n",
      "2 Teja\n",
      "3 Sunitha\n",
      "4 Anu\n"
     ]
    }
   ],
   "source": [
    "for k, el in dist1.items():\n",
    "\n",
    "    print(k,el)"
   ]
  },
  {
   "cell_type": "code",
   "execution_count": 15,
   "metadata": {},
   "outputs": [
    {
     "name": "stdout",
     "output_type": "stream",
     "text": [
      "1\n",
      "2\n",
      "3\n",
      "4\n"
     ]
    }
   ],
   "source": [
    "for k in dist1:\n",
    "    print(k)"
   ]
  },
  {
   "cell_type": "code",
   "execution_count": 17,
   "metadata": {},
   "outputs": [
    {
     "name": "stdout",
     "output_type": "stream",
     "text": [
      "(1, 'Raghu') (2, 'Teja') [(3, 'Sunitha'), (4, 'Anu')]\n"
     ]
    }
   ],
   "source": [
    "a,b,*c=dist1.items()\n",
    "print(a,b,c)"
   ]
  },
  {
   "cell_type": "code",
   "execution_count": 20,
   "metadata": {},
   "outputs": [
    {
     "name": "stdout",
     "output_type": "stream",
     "text": [
      "a\n",
      "b\n",
      "4\n",
      "c\n"
     ]
    }
   ],
   "source": [
    "#set\n",
    "s={'a','b','c',4}\n",
    "\n",
    "for i in s:\n",
    "    print(i)"
   ]
  },
  {
   "cell_type": "code",
   "execution_count": 21,
   "metadata": {},
   "outputs": [
    {
     "name": "stdout",
     "output_type": "stream",
     "text": [
      "a b [4, 'c']\n"
     ]
    }
   ],
   "source": [
    "x,y,*z=s\n",
    "print(x,y,z)"
   ]
  },
  {
   "cell_type": "code",
   "execution_count": 25,
   "metadata": {},
   "outputs": [
    {
     "name": "stdout",
     "output_type": "stream",
     "text": [
      "[1, 2, 3, 4, 5, 6, 'R', 'a', 'g', 'h', 'u']\n"
     ]
    }
   ],
   "source": [
    "l1=[1,2,3]\n",
    "l2=[4,5,6]\n",
    "s='Raghu'\n",
    "l=[*l1,*l2,*s]\n",
    "print(l)"
   ]
  },
  {
   "cell_type": "code",
   "execution_count": 27,
   "metadata": {},
   "outputs": [
    {
     "name": "stdout",
     "output_type": "stream",
     "text": [
      "(1, 2, 3, 4, 5)\n"
     ]
    }
   ],
   "source": [
    "a=1,2,3,4,5\n",
    "print(a)"
   ]
  },
  {
   "cell_type": "code",
   "execution_count": 28,
   "metadata": {},
   "outputs": [
    {
     "name": "stdout",
     "output_type": "stream",
     "text": [
      "{'a', 1, 2, 3, 4, 'b'}\n"
     ]
    }
   ],
   "source": [
    "dist2={\n",
    "    'a':1,\n",
    "    'b':2\n",
    "}\n",
    "\n",
    "s={*dist2,*dist1}\n",
    "print(s)"
   ]
  },
  {
   "cell_type": "code",
   "execution_count": 30,
   "metadata": {},
   "outputs": [
    {
     "name": "stdout",
     "output_type": "stream",
     "text": [
      "{1: 'Raghu', 2: 'Teja', 3: 'Sunitha', 4: 'Anu', 'a': 1, 'b': 2}\n"
     ]
    }
   ],
   "source": [
    "s={**dist1,**dist2}\n",
    "print(s)"
   ]
  },
  {
   "cell_type": "code",
   "execution_count": 32,
   "metadata": {},
   "outputs": [
    {
     "name": "stdout",
     "output_type": "stream",
     "text": [
      "[(1, 'Raghu'), (2, 'Teja'), (3, 'Sunitha'), (4, 'Anu')]\n"
     ]
    }
   ],
   "source": [
    "k=[*dist1.items()]\n",
    "print(k)"
   ]
  },
  {
   "cell_type": "code",
   "execution_count": 54,
   "metadata": {},
   "outputs": [
    {
     "name": "stdout",
     "output_type": "stream",
     "text": [
      "1 2 1 2 3 800 {'h': 2, 'k': 9} [2, 9]\n"
     ]
    }
   ],
   "source": [
    "def funp(a,b,*c,d=100,**kargs):\n",
    "    l=[j for i,j in kargs.items()]\n",
    "\n",
    "\n",
    "    print(a,b,*c,d,kargs,l)\n",
    "\n",
    "funp(1,2,1,2,3,d=800,h=2,k=9)   "
   ]
  },
  {
   "cell_type": "code",
   "execution_count": 56,
   "metadata": {},
   "outputs": [],
   "source": [
    "def fund(**kargs):\n",
    "    print(kargs)\n"
   ]
  },
  {
   "cell_type": "code",
   "execution_count": 61,
   "metadata": {},
   "outputs": [
    {
     "name": "stdout",
     "output_type": "stream",
     "text": [
      "30\n"
     ]
    }
   ],
   "source": [
    "# High order functions\n",
    "\n",
    "# lambda\n",
    "def apply_fun(fn,*args,**kwargs):\n",
    "    return fn(*args,**kwargs)\n",
    "print(apply_fun(lambda x,y:x*y,x=5,y=6))"
   ]
  },
  {
   "cell_type": "code",
   "execution_count": 62,
   "metadata": {},
   "outputs": [
    {
     "name": "stdout",
     "output_type": "stream",
     "text": [
      "[1, 2, 6, 24, 120]\n"
     ]
    }
   ],
   "source": [
    "#map\n",
    "def fact(n):\n",
    "    return 1 if n<2 else n*fact(n-1)\n",
    "l=[1,2,3,4,5]\n",
    "print(list(map(fact,l)))"
   ]
  },
  {
   "cell_type": "code",
   "execution_count": 63,
   "metadata": {},
   "outputs": [
    {
     "name": "stdout",
     "output_type": "stream",
     "text": [
      "Hello!\n",
      "Hello!\n",
      "Hello!\n"
     ]
    }
   ],
   "source": [
    "def repeat(num_times):\n",
    "    def decorator(func):\n",
    "        def wrapper(*args, **kwargs):\n",
    "            for _ in range(num_times):\n",
    "                result = func(*args, **kwargs)\n",
    "            return result\n",
    "        return wrapper\n",
    "    return decorator\n",
    "\n",
    "@repeat(3)\n",
    "def say_hello():\n",
    "    print(\"Hello!\")\n",
    "\n",
    "say_hello()"
   ]
  },
  {
   "cell_type": "code",
   "execution_count": 68,
   "metadata": {},
   "outputs": [
    {
     "name": "stdout",
     "output_type": "stream",
     "text": [
      "<class 'function'>\n",
      "(<cell at 0x0000029538B98EE0: str object at 0x00000295353B9670>,)\n",
      "('x',)\n"
     ]
    }
   ],
   "source": [
    "def outer():\n",
    "    x='python'\n",
    "    def inner():\n",
    "        print(x)\n",
    "    return inner    \n",
    "fn=outer()\n",
    "\n",
    "print(type(fn))\n",
    "print(fn.__closure__)\n",
    "print(fn.__code__.co_freevars)\n"
   ]
  },
  {
   "cell_type": "code",
   "execution_count": 76,
   "metadata": {},
   "outputs": [
    {
     "name": "stdout",
     "output_type": "stream",
     "text": [
      "function called 1 times.\n",
      "function called 2 times.\n",
      "function called 3 times.\n",
      "function called 4 times.\n",
      "function called 5 times.\n"
     ]
    }
   ],
   "source": [
    "def outer(fun):\n",
    "    c=0\n",
    "    def wrap(*args,**kargs):\n",
    "        \n",
    "        nonlocal c\n",
    "        c+=1\n",
    "        result=fun(*args,**kargs)\n",
    "        print(f'function called {c} times.')\n",
    "        return result\n",
    "    return wrap\n",
    "\n",
    "@outer\n",
    "def counter():\n",
    "    c=0\n",
    "    i=0\n",
    "    while i<10:\n",
    "        c+=1\n",
    "        i+=1\n",
    "    return c    \n",
    "for i in range(5):\n",
    "    counter()\n"
   ]
  },
  {
   "cell_type": "code",
   "execution_count": 90,
   "metadata": {},
   "outputs": [
    {
     "name": "stdout",
     "output_type": "stream",
     "text": [
      "('siva', 1, 2, [1, 21, 3]) 4 [1, 21, 3]\n"
     ]
    }
   ],
   "source": [
    "t3='siva',1,2,[1,2,3]\n",
    "t3[3][1]=21\n",
    "print(t3,len(t3),t3[3])"
   ]
  },
  {
   "cell_type": "code",
   "execution_count": 91,
   "metadata": {},
   "outputs": [],
   "source": [
    "t4=(('siva','Raghu','sai','teja'),[1,23,4,54])\n",
    "fname,g=t4"
   ]
  },
  {
   "cell_type": "code",
   "execution_count": 92,
   "metadata": {},
   "outputs": [
    {
     "data": {
      "text/plain": [
       "[1, 23, 4, 54]"
      ]
     },
     "execution_count": 92,
     "metadata": {},
     "output_type": "execute_result"
    }
   ],
   "source": [
    "g"
   ]
  },
  {
   "cell_type": "code",
   "execution_count": 95,
   "metadata": {},
   "outputs": [
    {
     "data": {
      "text/plain": [
       "[[1, 2], [3, 4, 5], [1, 2], [3, 4, 5], [1, 2], [3, 4, 5]]"
      ]
     },
     "execution_count": 95,
     "metadata": {},
     "output_type": "execute_result"
    }
   ],
   "source": [
    "[[1,2],[3,4,5]]*3"
   ]
  },
  {
   "cell_type": "code",
   "execution_count": 96,
   "metadata": {},
   "outputs": [
    {
     "ename": "ModuleNotFoundError",
     "evalue": "No module named 'numpy'",
     "output_type": "error",
     "traceback": [
      "\u001b[1;31m---------------------------------------------------------------------------\u001b[0m",
      "\u001b[1;31mModuleNotFoundError\u001b[0m                       Traceback (most recent call last)",
      "Cell \u001b[1;32mIn[96], line 1\u001b[0m\n\u001b[1;32m----> 1\u001b[0m \u001b[38;5;28;01mimport\u001b[39;00m \u001b[38;5;21;01mnumpy\u001b[39;00m \u001b[38;5;28;01mas\u001b[39;00m \u001b[38;5;21;01mnp\u001b[39;00m\n",
      "\u001b[1;31mModuleNotFoundError\u001b[0m: No module named 'numpy'"
     ]
    }
   ],
   "source": [
    "import numpy as np"
   ]
  },
  {
   "cell_type": "code",
   "execution_count": 97,
   "metadata": {},
   "outputs": [
    {
     "name": "stdout",
     "output_type": "stream",
     "text": [
      "Collecting numpy\n",
      "  Obtaining dependency information for numpy from https://files.pythonhosted.org/packages/66/a3/4139296b481ae7304a43581046b8f0a20da6a0dfe0ee47a044cade796603/numpy-2.2.2-cp311-cp311-win_amd64.whl.metadata\n",
      "  Downloading numpy-2.2.2-cp311-cp311-win_amd64.whl.metadata (60 kB)\n",
      "     ---------------------------------------- 0.0/60.8 kB ? eta -:--:--\n",
      "     ---------------------------------------- 60.8/60.8 kB 3.2 MB/s eta 0:00:00\n",
      "Downloading numpy-2.2.2-cp311-cp311-win_amd64.whl (12.9 MB)\n",
      "   ---------------------------------------- 0.0/12.9 MB ? eta -:--:--\n",
      "    --------------------------------------- 0.3/12.9 MB 9.6 MB/s eta 0:00:02\n",
      "   - -------------------------------------- 0.5/12.9 MB 10.2 MB/s eta 0:00:02\n",
      "   - -------------------------------------- 0.6/12.9 MB 5.7 MB/s eta 0:00:03\n",
      "   -- ------------------------------------- 0.9/12.9 MB 6.7 MB/s eta 0:00:02\n",
      "   --- ------------------------------------ 1.1/12.9 MB 5.4 MB/s eta 0:00:03\n",
      "   ---- ----------------------------------- 1.5/12.9 MB 5.9 MB/s eta 0:00:02\n",
      "   ---- ----------------------------------- 1.5/12.9 MB 5.9 MB/s eta 0:00:02\n",
      "   ----- ---------------------------------- 1.8/12.9 MB 5.2 MB/s eta 0:00:03\n",
      "   ------ --------------------------------- 1.9/12.9 MB 5.0 MB/s eta 0:00:03\n",
      "   ------- -------------------------------- 2.4/12.9 MB 5.5 MB/s eta 0:00:02\n",
      "   ------- -------------------------------- 2.6/12.9 MB 5.1 MB/s eta 0:00:03\n",
      "   --------- ------------------------------ 3.0/12.9 MB 5.4 MB/s eta 0:00:02\n",
      "   --------- ------------------------------ 3.1/12.9 MB 5.6 MB/s eta 0:00:02\n",
      "   ---------- ----------------------------- 3.3/12.9 MB 5.3 MB/s eta 0:00:02\n",
      "   ----------- ---------------------------- 3.7/12.9 MB 5.6 MB/s eta 0:00:02\n",
      "   ------------ --------------------------- 3.9/12.9 MB 5.4 MB/s eta 0:00:02\n",
      "   ------------- -------------------------- 4.4/12.9 MB 5.8 MB/s eta 0:00:02\n",
      "   -------------- ------------------------- 4.6/12.9 MB 5.7 MB/s eta 0:00:02\n",
      "   ---------------- ----------------------- 5.2/12.9 MB 6.1 MB/s eta 0:00:02\n",
      "   ---------------- ----------------------- 5.4/12.9 MB 6.0 MB/s eta 0:00:02\n",
      "   ------------------ --------------------- 5.9/12.9 MB 6.1 MB/s eta 0:00:02\n",
      "   ------------------ --------------------- 6.1/12.9 MB 6.0 MB/s eta 0:00:02\n",
      "   -------------------- ------------------- 6.6/12.9 MB 6.2 MB/s eta 0:00:02\n",
      "   --------------------- ------------------ 6.8/12.9 MB 6.1 MB/s eta 0:00:01\n",
      "   ---------------------- ----------------- 7.3/12.9 MB 6.2 MB/s eta 0:00:01\n",
      "   ----------------------- ---------------- 7.6/12.9 MB 6.2 MB/s eta 0:00:01\n",
      "   ------------------------ --------------- 7.9/12.9 MB 6.3 MB/s eta 0:00:01\n",
      "   ------------------------- -------------- 8.2/12.9 MB 6.5 MB/s eta 0:00:01\n",
      "   -------------------------- ------------- 8.6/12.9 MB 6.4 MB/s eta 0:00:01\n",
      "   --------------------------- ------------ 9.0/12.9 MB 6.6 MB/s eta 0:00:01\n",
      "   ----------------------------- ---------- 9.5/12.9 MB 6.6 MB/s eta 0:00:01\n",
      "   ------------------------------ --------- 9.9/12.9 MB 6.7 MB/s eta 0:00:01\n",
      "   ------------------------------- -------- 10.1/12.9 MB 6.6 MB/s eta 0:00:01\n",
      "   -------------------------------- ------- 10.5/12.9 MB 6.7 MB/s eta 0:00:01\n",
      "   --------------------------------- ------ 10.8/12.9 MB 6.8 MB/s eta 0:00:01\n",
      "   ---------------------------------- ----- 11.3/12.9 MB 7.0 MB/s eta 0:00:01\n",
      "   ----------------------------------- ---- 11.6/12.9 MB 6.9 MB/s eta 0:00:01\n",
      "   ------------------------------------- -- 12.1/12.9 MB 7.4 MB/s eta 0:00:01\n",
      "   -------------------------------------- - 12.5/12.9 MB 7.4 MB/s eta 0:00:01\n",
      "   ---------------------------------------  12.9/12.9 MB 7.6 MB/s eta 0:00:01\n",
      "   ---------------------------------------- 12.9/12.9 MB 7.4 MB/s eta 0:00:00\n",
      "Installing collected packages: numpy\n",
      "Successfully installed numpy-2.2.2\n",
      "Note: you may need to restart the kernel to use updated packages.\n"
     ]
    },
    {
     "name": "stderr",
     "output_type": "stream",
     "text": [
      "\n",
      "[notice] A new release of pip is available: 23.2.1 -> 24.3.1\n",
      "[notice] To update, run: python.exe -m pip install --upgrade pip\n"
     ]
    }
   ],
   "source": [
    "pip install numpy"
   ]
  },
  {
   "cell_type": "code",
   "execution_count": 98,
   "metadata": {},
   "outputs": [],
   "source": [
    "import numpy as np"
   ]
  },
  {
   "cell_type": "code",
   "execution_count": 99,
   "metadata": {},
   "outputs": [
    {
     "data": {
      "text/plain": [
       "array([0, 1, 2, 3])"
      ]
     },
     "execution_count": 99,
     "metadata": {},
     "output_type": "execute_result"
    }
   ],
   "source": [
    "n=np.arange(4)\n",
    "n "
   ]
  },
  {
   "cell_type": "code",
   "execution_count": 100,
   "metadata": {},
   "outputs": [
    {
     "data": {
      "text/plain": [
       "array([ 0,  5, 10, 15])"
      ]
     },
     "execution_count": 100,
     "metadata": {},
     "output_type": "execute_result"
    }
   ],
   "source": [
    "n*5"
   ]
  },
  {
   "cell_type": "code",
   "execution_count": 101,
   "metadata": {},
   "outputs": [
    {
     "name": "stdout",
     "output_type": "stream",
     "text": [
      "[0 1 2 3]\n"
     ]
    }
   ],
   "source": [
    "print(n)"
   ]
  },
  {
   "cell_type": "code",
   "execution_count": 105,
   "metadata": {},
   "outputs": [
    {
     "data": {
      "text/plain": [
       "array([[0., 0.],\n",
       "       [0., 0.]])"
      ]
     },
     "execution_count": 105,
     "metadata": {},
     "output_type": "execute_result"
    }
   ],
   "source": [
    "n=np.zeros(4).reshape(2,2)\n",
    "n"
   ]
  },
  {
   "cell_type": "code",
   "execution_count": 107,
   "metadata": {},
   "outputs": [
    {
     "name": "stdout",
     "output_type": "stream",
     "text": [
      "[[0 1]\n",
      " [2 3]]\n"
     ]
    }
   ],
   "source": [
    "a=np.arange(4).reshape(2,2)\n",
    "b=np.arange(1,3)\n",
    "\n",
    "print(a)"
   ]
  },
  {
   "cell_type": "code",
   "execution_count": 108,
   "metadata": {},
   "outputs": [
    {
     "name": "stdout",
     "output_type": "stream",
     "text": [
      "[1 2]\n"
     ]
    }
   ],
   "source": [
    "print(b)"
   ]
  },
  {
   "cell_type": "code",
   "execution_count": 112,
   "metadata": {},
   "outputs": [
    {
     "name": "stdout",
     "output_type": "stream",
     "text": [
      "[2 8]\n"
     ]
    }
   ],
   "source": [
    "print(a.dot(b))"
   ]
  },
  {
   "cell_type": "code",
   "execution_count": 113,
   "metadata": {},
   "outputs": [
    {
     "data": {
      "text/plain": [
       "0.6666666666666666"
      ]
     },
     "execution_count": 113,
     "metadata": {},
     "output_type": "execute_result"
    }
   ],
   "source": [
    "2/3"
   ]
  },
  {
   "cell_type": "code",
   "execution_count": 114,
   "metadata": {},
   "outputs": [],
   "source": [
    "L=[1,2,3]\n",
    "L.extend([2,3])"
   ]
  },
  {
   "cell_type": "code",
   "execution_count": 115,
   "metadata": {},
   "outputs": [
    {
     "data": {
      "text/plain": [
       "[1, 2, 3, 2, 3]"
      ]
     },
     "execution_count": 115,
     "metadata": {},
     "output_type": "execute_result"
    }
   ],
   "source": [
    "L"
   ]
  },
  {
   "cell_type": "code",
   "execution_count": 116,
   "metadata": {},
   "outputs": [
    {
     "data": {
      "text/plain": [
       "[1, 2, 3, 2, 3, [10, 20]]"
      ]
     },
     "execution_count": 116,
     "metadata": {},
     "output_type": "execute_result"
    }
   ],
   "source": [
    "L.append([10,20])\n",
    "L"
   ]
  },
  {
   "cell_type": "code",
   "execution_count": 119,
   "metadata": {},
   "outputs": [
    {
     "name": "stdout",
     "output_type": "stream",
     "text": [
      "Found x value as 2.0\n",
      "Found x value as 3.0\n"
     ]
    }
   ],
   "source": [
    "candidates=np.linspace(-1000,1000,2001)\n",
    "for i in candidates:\n",
    "    #print(i)\n",
    "    if(i**2-5*i+6==0):\n",
    "        print(\"Found x value as {}\".format(i))"
   ]
  },
  {
   "cell_type": "code",
   "execution_count": 120,
   "metadata": {},
   "outputs": [
    {
     "ename": "ModuleNotFoundError",
     "evalue": "No module named 'matplotlib'",
     "output_type": "error",
     "traceback": [
      "\u001b[1;31m---------------------------------------------------------------------------\u001b[0m",
      "\u001b[1;31mModuleNotFoundError\u001b[0m                       Traceback (most recent call last)",
      "Cell \u001b[1;32mIn[120], line 1\u001b[0m\n\u001b[1;32m----> 1\u001b[0m \u001b[38;5;28;01mimport\u001b[39;00m \u001b[38;5;21;01mmatplotlib\u001b[39;00m\u001b[38;5;21;01m.\u001b[39;00m\u001b[38;5;21;01mpyplot\u001b[39;00m \u001b[38;5;28;01mas\u001b[39;00m \u001b[38;5;21;01mplt\u001b[39;00m\n\u001b[0;32m      3\u001b[0m x \u001b[38;5;241m=\u001b[39m [\u001b[38;5;241m1\u001b[39m, \u001b[38;5;241m2\u001b[39m, \u001b[38;5;241m3\u001b[39m, \u001b[38;5;241m4\u001b[39m, \u001b[38;5;241m5\u001b[39m]\n\u001b[0;32m      4\u001b[0m y \u001b[38;5;241m=\u001b[39m [\u001b[38;5;241m2\u001b[39m, \u001b[38;5;241m4\u001b[39m, \u001b[38;5;241m6\u001b[39m, \u001b[38;5;241m8\u001b[39m, \u001b[38;5;241m10\u001b[39m]\n",
      "\u001b[1;31mModuleNotFoundError\u001b[0m: No module named 'matplotlib'"
     ]
    }
   ],
   "source": [
    "import matplotlib.pyplot as plt\n",
    "\n",
    "x = [1, 2, 3, 4, 5]\n",
    "y = [2, 4, 6, 8, 10]\n",
    "\n",
    "plt.plot(x, y, marker='o')  # Line plot with markers\n",
    "plt.title(\"Line Plot\")\n",
    "plt.xlabel(\"X-axis\")\n",
    "plt.ylabel(\"Y-axis\")\n",
    "plt.grid(True)\n",
    "plt.show()\n"
   ]
  },
  {
   "cell_type": "code",
   "execution_count": 121,
   "metadata": {},
   "outputs": [
    {
     "name": "stdout",
     "output_type": "stream",
     "text": [
      "Collecting matplotlib\n",
      "  Obtaining dependency information for matplotlib from https://files.pythonhosted.org/packages/14/cf/e382598f98be11bf51dd0bc60eca44a517f6793e3dc8b9d53634a144620c/matplotlib-3.10.0-cp311-cp311-win_amd64.whl.metadata\n",
      "  Downloading matplotlib-3.10.0-cp311-cp311-win_amd64.whl.metadata (11 kB)\n",
      "Collecting contourpy>=1.0.1 (from matplotlib)\n",
      "  Obtaining dependency information for contourpy>=1.0.1 from https://files.pythonhosted.org/packages/a8/7e/cd93cab453720a5d6cb75588cc17dcdc08fc3484b9de98b885924ff61900/contourpy-1.3.1-cp311-cp311-win_amd64.whl.metadata\n",
      "  Downloading contourpy-1.3.1-cp311-cp311-win_amd64.whl.metadata (5.4 kB)\n",
      "Collecting cycler>=0.10 (from matplotlib)\n",
      "  Obtaining dependency information for cycler>=0.10 from https://files.pythonhosted.org/packages/e7/05/c19819d5e3d95294a6f5947fb9b9629efb316b96de511b418c53d245aae6/cycler-0.12.1-py3-none-any.whl.metadata\n",
      "  Downloading cycler-0.12.1-py3-none-any.whl.metadata (3.8 kB)\n",
      "Collecting fonttools>=4.22.0 (from matplotlib)\n",
      "  Obtaining dependency information for fonttools>=4.22.0 from https://files.pythonhosted.org/packages/1e/10/26a4123227fa1ab9fa8ec062f4f2b980f43483d58ec261d502bfe49af6c2/fonttools-4.55.6-cp311-cp311-win_amd64.whl.metadata\n",
      "  Downloading fonttools-4.55.6-cp311-cp311-win_amd64.whl.metadata (169 kB)\n",
      "     ---------------------------------------- 0.0/169.5 kB ? eta -:--:--\n",
      "     ---------------------------------------- 0.0/169.5 kB ? eta -:--:--\n",
      "     --------- ------------------------------ 41.0/169.5 kB ? eta -:--:--\n",
      "     ------------------ -------------------- 81.9/169.5 kB 1.5 MB/s eta 0:00:01\n",
      "     -------------------------------------- 169.5/169.5 kB 1.3 MB/s eta 0:00:00\n",
      "Collecting kiwisolver>=1.3.1 (from matplotlib)\n",
      "  Obtaining dependency information for kiwisolver>=1.3.1 from https://files.pythonhosted.org/packages/2d/27/bdf1c769c83f74d98cbc34483a972f221440703054894a37d174fba8aa68/kiwisolver-1.4.8-cp311-cp311-win_amd64.whl.metadata\n",
      "  Downloading kiwisolver-1.4.8-cp311-cp311-win_amd64.whl.metadata (6.3 kB)\n",
      "Requirement already satisfied: numpy>=1.23 in c:\\users\\annem\\appdata\\local\\programs\\python\\python311\\lib\\site-packages (from matplotlib) (2.2.2)\n",
      "Requirement already satisfied: packaging>=20.0 in c:\\users\\annem\\appdata\\local\\programs\\python\\python311\\lib\\site-packages (from matplotlib) (23.1)\n",
      "Collecting pillow>=8 (from matplotlib)\n",
      "  Obtaining dependency information for pillow>=8 from https://files.pythonhosted.org/packages/3a/c6/fce9255272bcf0c39e15abd2f8fd8429a954cf344469eaceb9d0d1366913/pillow-11.1.0-cp311-cp311-win_amd64.whl.metadata\n",
      "  Downloading pillow-11.1.0-cp311-cp311-win_amd64.whl.metadata (9.3 kB)\n",
      "Collecting pyparsing>=2.3.1 (from matplotlib)\n",
      "  Obtaining dependency information for pyparsing>=2.3.1 from https://files.pythonhosted.org/packages/1c/a7/c8a2d361bf89c0d9577c934ebb7421b25dc84bf3a8e3ac0a40aed9acc547/pyparsing-3.2.1-py3-none-any.whl.metadata\n",
      "  Downloading pyparsing-3.2.1-py3-none-any.whl.metadata (5.0 kB)\n",
      "Requirement already satisfied: python-dateutil>=2.7 in c:\\users\\annem\\appdata\\local\\programs\\python\\python311\\lib\\site-packages (from matplotlib) (2.8.2)\n",
      "Requirement already satisfied: six>=1.5 in c:\\users\\annem\\appdata\\local\\programs\\python\\python311\\lib\\site-packages (from python-dateutil>=2.7->matplotlib) (1.16.0)\n",
      "Downloading matplotlib-3.10.0-cp311-cp311-win_amd64.whl (8.0 MB)\n",
      "   ---------------------------------------- 0.0/8.0 MB ? eta -:--:--\n",
      "   ---------------------------------------- 0.0/8.0 MB ? eta -:--:--\n",
      "    --------------------------------------- 0.2/8.0 MB 2.3 MB/s eta 0:00:04\n",
      "   - -------------------------------------- 0.2/8.0 MB 2.4 MB/s eta 0:00:04\n",
      "   - -------------------------------------- 0.3/8.0 MB 2.1 MB/s eta 0:00:04\n",
      "   - -------------------------------------- 0.4/8.0 MB 1.7 MB/s eta 0:00:05\n",
      "   -- ------------------------------------- 0.6/8.0 MB 2.1 MB/s eta 0:00:04\n",
      "   --- ------------------------------------ 0.7/8.0 MB 2.2 MB/s eta 0:00:04\n",
      "   --- ------------------------------------ 0.8/8.0 MB 2.1 MB/s eta 0:00:04\n",
      "   ---- ----------------------------------- 1.0/8.0 MB 2.3 MB/s eta 0:00:04\n",
      "   ---- ----------------------------------- 1.0/8.0 MB 2.1 MB/s eta 0:00:04\n",
      "   ----- ---------------------------------- 1.0/8.0 MB 2.0 MB/s eta 0:00:04\n",
      "   ----- ---------------------------------- 1.1/8.0 MB 2.1 MB/s eta 0:00:04\n",
      "   ----- ---------------------------------- 1.1/8.0 MB 1.9 MB/s eta 0:00:04\n",
      "   ----- ---------------------------------- 1.2/8.0 MB 1.9 MB/s eta 0:00:04\n",
      "   ------ --------------------------------- 1.2/8.0 MB 1.8 MB/s eta 0:00:04\n",
      "   ------ --------------------------------- 1.3/8.0 MB 1.8 MB/s eta 0:00:04\n",
      "   ------ --------------------------------- 1.4/8.0 MB 1.8 MB/s eta 0:00:04\n",
      "   ------ --------------------------------- 1.4/8.0 MB 1.8 MB/s eta 0:00:04\n",
      "   ------- -------------------------------- 1.6/8.0 MB 1.7 MB/s eta 0:00:04\n",
      "   ------- -------------------------------- 1.6/8.0 MB 1.7 MB/s eta 0:00:04\n",
      "   -------- ------------------------------- 1.7/8.0 MB 1.7 MB/s eta 0:00:04\n",
      "   -------- ------------------------------- 1.8/8.0 MB 1.7 MB/s eta 0:00:04\n",
      "   --------- ------------------------------ 1.8/8.0 MB 1.7 MB/s eta 0:00:04\n",
      "   --------- ------------------------------ 1.8/8.0 MB 1.7 MB/s eta 0:00:04\n",
      "   --------- ------------------------------ 1.9/8.0 MB 1.7 MB/s eta 0:00:04\n",
      "   ---------- ----------------------------- 2.0/8.0 MB 1.7 MB/s eta 0:00:04\n",
      "   ---------- ----------------------------- 2.1/8.0 MB 1.7 MB/s eta 0:00:04\n",
      "   ----------- ---------------------------- 2.2/8.0 MB 1.7 MB/s eta 0:00:04\n",
      "   ----------- ---------------------------- 2.2/8.0 MB 1.7 MB/s eta 0:00:04\n",
      "   ----------- ---------------------------- 2.3/8.0 MB 1.7 MB/s eta 0:00:04\n",
      "   ----------- ---------------------------- 2.4/8.0 MB 1.7 MB/s eta 0:00:04\n",
      "   ------------ --------------------------- 2.5/8.0 MB 1.7 MB/s eta 0:00:04\n",
      "   ------------ --------------------------- 2.6/8.0 MB 1.7 MB/s eta 0:00:04\n",
      "   ------------- -------------------------- 2.7/8.0 MB 1.7 MB/s eta 0:00:04\n",
      "   ------------- -------------------------- 2.7/8.0 MB 1.7 MB/s eta 0:00:04\n",
      "   ------------- -------------------------- 2.7/8.0 MB 1.7 MB/s eta 0:00:04\n",
      "   ------------- -------------------------- 2.8/8.0 MB 1.7 MB/s eta 0:00:04\n",
      "   -------------- ------------------------- 2.8/8.0 MB 1.6 MB/s eta 0:00:04\n",
      "   -------------- ------------------------- 2.9/8.0 MB 1.6 MB/s eta 0:00:04\n",
      "   -------------- ------------------------- 2.9/8.0 MB 1.6 MB/s eta 0:00:04\n",
      "   --------------- ------------------------ 3.0/8.0 MB 1.6 MB/s eta 0:00:04\n",
      "   --------------- ------------------------ 3.1/8.0 MB 1.6 MB/s eta 0:00:04\n",
      "   --------------- ------------------------ 3.2/8.0 MB 1.6 MB/s eta 0:00:03\n",
      "   ---------------- ----------------------- 3.2/8.0 MB 1.6 MB/s eta 0:00:03\n",
      "   ---------------- ----------------------- 3.3/8.0 MB 1.6 MB/s eta 0:00:03\n",
      "   ---------------- ----------------------- 3.4/8.0 MB 1.6 MB/s eta 0:00:03\n",
      "   ----------------- ---------------------- 3.5/8.0 MB 1.6 MB/s eta 0:00:03\n",
      "   ----------------- ---------------------- 3.5/8.0 MB 1.6 MB/s eta 0:00:03\n",
      "   ----------------- ---------------------- 3.5/8.0 MB 1.6 MB/s eta 0:00:03\n",
      "   ------------------ --------------------- 3.6/8.0 MB 1.6 MB/s eta 0:00:03\n",
      "   ------------------ --------------------- 3.7/8.0 MB 1.5 MB/s eta 0:00:03\n",
      "   ------------------ --------------------- 3.7/8.0 MB 1.6 MB/s eta 0:00:03\n",
      "   ------------------ --------------------- 3.8/8.0 MB 1.5 MB/s eta 0:00:03\n",
      "   ------------------- -------------------- 3.9/8.0 MB 1.5 MB/s eta 0:00:03\n",
      "   ------------------- -------------------- 3.9/8.0 MB 1.5 MB/s eta 0:00:03\n",
      "   ------------------- -------------------- 4.0/8.0 MB 1.5 MB/s eta 0:00:03\n",
      "   -------------------- ------------------- 4.0/8.0 MB 1.5 MB/s eta 0:00:03\n",
      "   -------------------- ------------------- 4.1/8.0 MB 1.5 MB/s eta 0:00:03\n",
      "   -------------------- ------------------- 4.2/8.0 MB 1.5 MB/s eta 0:00:03\n",
      "   -------------------- ------------------- 4.2/8.0 MB 1.5 MB/s eta 0:00:03\n",
      "   --------------------- ------------------ 4.3/8.0 MB 1.5 MB/s eta 0:00:03\n",
      "   --------------------- ------------------ 4.3/8.0 MB 1.5 MB/s eta 0:00:03\n",
      "   --------------------- ------------------ 4.3/8.0 MB 1.5 MB/s eta 0:00:03\n",
      "   --------------------- ------------------ 4.4/8.0 MB 1.5 MB/s eta 0:00:03\n",
      "   ---------------------- ----------------- 4.5/8.0 MB 1.5 MB/s eta 0:00:03\n",
      "   ---------------------- ----------------- 4.6/8.0 MB 1.5 MB/s eta 0:00:03\n",
      "   ----------------------- ---------------- 4.6/8.0 MB 1.5 MB/s eta 0:00:03\n",
      "   ----------------------- ---------------- 4.7/8.0 MB 1.5 MB/s eta 0:00:03\n",
      "   ----------------------- ---------------- 4.8/8.0 MB 1.5 MB/s eta 0:00:03\n",
      "   ------------------------ --------------- 4.9/8.0 MB 1.5 MB/s eta 0:00:03\n",
      "   ------------------------ --------------- 5.0/8.0 MB 1.5 MB/s eta 0:00:03\n",
      "   ------------------------ --------------- 5.0/8.0 MB 1.5 MB/s eta 0:00:03\n",
      "   ------------------------- -------------- 5.0/8.0 MB 1.5 MB/s eta 0:00:02\n",
      "   ------------------------- -------------- 5.1/8.0 MB 1.5 MB/s eta 0:00:02\n",
      "   ------------------------- -------------- 5.2/8.0 MB 1.5 MB/s eta 0:00:02\n",
      "   -------------------------- ------------- 5.3/8.0 MB 1.5 MB/s eta 0:00:02\n",
      "   -------------------------- ------------- 5.4/8.0 MB 1.5 MB/s eta 0:00:02\n",
      "   -------------------------- ------------- 5.4/8.0 MB 1.5 MB/s eta 0:00:02\n",
      "   --------------------------- ------------ 5.5/8.0 MB 1.5 MB/s eta 0:00:02\n",
      "   --------------------------- ------------ 5.5/8.0 MB 1.5 MB/s eta 0:00:02\n",
      "   --------------------------- ------------ 5.6/8.0 MB 1.5 MB/s eta 0:00:02\n",
      "   ---------------------------- ----------- 5.7/8.0 MB 1.5 MB/s eta 0:00:02\n",
      "   ---------------------------- ----------- 5.7/8.0 MB 1.5 MB/s eta 0:00:02\n",
      "   ----------------------------- ---------- 5.8/8.0 MB 1.5 MB/s eta 0:00:02\n",
      "   ----------------------------- ---------- 5.9/8.0 MB 1.5 MB/s eta 0:00:02\n",
      "   ----------------------------- ---------- 6.0/8.0 MB 1.5 MB/s eta 0:00:02\n",
      "   ------------------------------ --------- 6.1/8.0 MB 1.5 MB/s eta 0:00:02\n",
      "   ------------------------------ --------- 6.2/8.0 MB 1.5 MB/s eta 0:00:02\n",
      "   ------------------------------ --------- 6.2/8.0 MB 1.5 MB/s eta 0:00:02\n",
      "   ------------------------------ --------- 6.2/8.0 MB 1.5 MB/s eta 0:00:02\n",
      "   ------------------------------- -------- 6.3/8.0 MB 1.5 MB/s eta 0:00:02\n",
      "   ------------------------------- -------- 6.4/8.0 MB 1.5 MB/s eta 0:00:02\n",
      "   -------------------------------- ------- 6.5/8.0 MB 1.5 MB/s eta 0:00:02\n",
      "   -------------------------------- ------- 6.6/8.0 MB 1.5 MB/s eta 0:00:01\n",
      "   --------------------------------- ------ 6.6/8.0 MB 1.5 MB/s eta 0:00:01\n",
      "   --------------------------------- ------ 6.7/8.0 MB 1.5 MB/s eta 0:00:01\n",
      "   --------------------------------- ------ 6.8/8.0 MB 1.5 MB/s eta 0:00:01\n",
      "   ---------------------------------- ----- 6.9/8.0 MB 1.5 MB/s eta 0:00:01\n",
      "   ---------------------------------- ----- 6.9/8.0 MB 1.5 MB/s eta 0:00:01\n",
      "   ---------------------------------- ----- 7.0/8.0 MB 1.5 MB/s eta 0:00:01\n",
      "   ----------------------------------- ---- 7.1/8.0 MB 1.5 MB/s eta 0:00:01\n",
      "   ----------------------------------- ---- 7.1/8.0 MB 1.5 MB/s eta 0:00:01\n",
      "   ----------------------------------- ---- 7.1/8.0 MB 1.5 MB/s eta 0:00:01\n",
      "   ------------------------------------ --- 7.2/8.0 MB 1.5 MB/s eta 0:00:01\n",
      "   ------------------------------------ --- 7.2/8.0 MB 1.5 MB/s eta 0:00:01\n",
      "   ------------------------------------ --- 7.2/8.0 MB 1.5 MB/s eta 0:00:01\n",
      "   ------------------------------------ --- 7.4/8.0 MB 1.5 MB/s eta 0:00:01\n",
      "   ------------------------------------- -- 7.5/8.0 MB 1.5 MB/s eta 0:00:01\n",
      "   ------------------------------------- -- 7.5/8.0 MB 1.5 MB/s eta 0:00:01\n",
      "   ------------------------------------- -- 7.6/8.0 MB 1.5 MB/s eta 0:00:01\n",
      "   ------------------------------------- -- 7.6/8.0 MB 1.5 MB/s eta 0:00:01\n",
      "   -------------------------------------- - 7.7/8.0 MB 1.5 MB/s eta 0:00:01\n",
      "   -------------------------------------- - 7.7/8.0 MB 1.5 MB/s eta 0:00:01\n",
      "   ---------------------------------------  7.8/8.0 MB 1.5 MB/s eta 0:00:01\n",
      "   ---------------------------------------  7.8/8.0 MB 1.5 MB/s eta 0:00:01\n",
      "   ---------------------------------------  7.9/8.0 MB 1.5 MB/s eta 0:00:01\n",
      "   ---------------------------------------  8.0/8.0 MB 1.5 MB/s eta 0:00:01\n",
      "   ---------------------------------------  8.0/8.0 MB 1.5 MB/s eta 0:00:01\n",
      "   ---------------------------------------  8.0/8.0 MB 1.5 MB/s eta 0:00:01\n",
      "   ---------------------------------------- 8.0/8.0 MB 1.5 MB/s eta 0:00:00\n",
      "Downloading contourpy-1.3.1-cp311-cp311-win_amd64.whl (219 kB)\n",
      "   ---------------------------------------- 0.0/219.8 kB ? eta -:--:--\n",
      "   - -------------------------------------- 10.2/219.8 kB ? eta -:--:--\n",
      "   -------------------- ------------------- 112.6/219.8 kB 2.2 MB/s eta 0:00:01\n",
      "   ------------------------ --------------- 133.1/219.8 kB 1.1 MB/s eta 0:00:01\n",
      "   ---------------------------------------- 219.8/219.8 kB 1.3 MB/s eta 0:00:00\n",
      "Downloading cycler-0.12.1-py3-none-any.whl (8.3 kB)\n",
      "Downloading fonttools-4.55.6-cp311-cp311-win_amd64.whl (2.2 MB)\n",
      "   ---------------------------------------- 0.0/2.2 MB ? eta -:--:--\n",
      "    --------------------------------------- 0.0/2.2 MB 653.6 kB/s eta 0:00:04\n",
      "   - -------------------------------------- 0.1/2.2 MB 2.0 MB/s eta 0:00:02\n",
      "   -- ------------------------------------- 0.1/2.2 MB 1.2 MB/s eta 0:00:02\n",
      "   ---- ----------------------------------- 0.2/2.2 MB 1.4 MB/s eta 0:00:02\n",
      "   ---- ----------------------------------- 0.3/2.2 MB 1.3 MB/s eta 0:00:02\n",
      "   ------ --------------------------------- 0.4/2.2 MB 1.4 MB/s eta 0:00:02\n",
      "   ------- -------------------------------- 0.4/2.2 MB 1.3 MB/s eta 0:00:02\n",
      "   --------- ------------------------------ 0.5/2.2 MB 1.4 MB/s eta 0:00:02\n",
      "   --------- ------------------------------ 0.6/2.2 MB 1.3 MB/s eta 0:00:02\n",
      "   --------- ------------------------------ 0.6/2.2 MB 1.3 MB/s eta 0:00:02\n",
      "   ----------- ---------------------------- 0.7/2.2 MB 1.4 MB/s eta 0:00:02\n",
      "   ------------ --------------------------- 0.7/2.2 MB 1.3 MB/s eta 0:00:02\n",
      "   -------------- ------------------------- 0.8/2.2 MB 1.4 MB/s eta 0:00:01\n",
      "   --------------- ------------------------ 0.8/2.2 MB 1.4 MB/s eta 0:00:02\n",
      "   ---------------- ----------------------- 0.9/2.2 MB 1.4 MB/s eta 0:00:01\n",
      "   ----------------- ---------------------- 1.0/2.2 MB 1.4 MB/s eta 0:00:01\n",
      "   ------------------- -------------------- 1.1/2.2 MB 1.4 MB/s eta 0:00:01\n",
      "   -------------------- ------------------- 1.1/2.2 MB 1.4 MB/s eta 0:00:01\n",
      "   ---------------------- ----------------- 1.3/2.2 MB 1.4 MB/s eta 0:00:01\n",
      "   ----------------------- ---------------- 1.3/2.2 MB 1.4 MB/s eta 0:00:01\n",
      "   ------------------------- -------------- 1.4/2.2 MB 1.4 MB/s eta 0:00:01\n",
      "   ------------------------- -------------- 1.4/2.2 MB 1.4 MB/s eta 0:00:01\n",
      "   --------------------------- ------------ 1.5/2.2 MB 1.4 MB/s eta 0:00:01\n",
      "   ---------------------------- ----------- 1.6/2.2 MB 1.4 MB/s eta 0:00:01\n",
      "   ---------------------------- ----------- 1.6/2.2 MB 1.4 MB/s eta 0:00:01\n",
      "   ------------------------------ --------- 1.7/2.2 MB 1.4 MB/s eta 0:00:01\n",
      "   ------------------------------- -------- 1.8/2.2 MB 1.4 MB/s eta 0:00:01\n",
      "   -------------------------------- ------- 1.8/2.2 MB 1.4 MB/s eta 0:00:01\n",
      "   --------------------------------- ------ 1.9/2.2 MB 1.4 MB/s eta 0:00:01\n",
      "   --------------------------------- ------ 1.9/2.2 MB 1.4 MB/s eta 0:00:01\n",
      "   ----------------------------------- ---- 2.0/2.2 MB 1.4 MB/s eta 0:00:01\n",
      "   ----------------------------------- ---- 2.0/2.2 MB 1.3 MB/s eta 0:00:01\n",
      "   ------------------------------------ --- 2.0/2.2 MB 1.3 MB/s eta 0:00:01\n",
      "   ------------------------------------- -- 2.1/2.2 MB 1.3 MB/s eta 0:00:01\n",
      "   -------------------------------------- - 2.2/2.2 MB 1.3 MB/s eta 0:00:01\n",
      "   ---------------------------------------  2.2/2.2 MB 1.3 MB/s eta 0:00:01\n",
      "   ---------------------------------------  2.2/2.2 MB 1.3 MB/s eta 0:00:01\n",
      "   ---------------------------------------- 2.2/2.2 MB 1.3 MB/s eta 0:00:00\n",
      "Downloading kiwisolver-1.4.8-cp311-cp311-win_amd64.whl (71 kB)\n",
      "   ---------------------------------------- 0.0/72.0 kB ? eta -:--:--\n",
      "   ---------------------------------------  71.7/72.0 kB ? eta -:--:--\n",
      "   ---------------------------------------- 72.0/72.0 kB 1.3 MB/s eta 0:00:00\n",
      "Downloading pillow-11.1.0-cp311-cp311-win_amd64.whl (2.6 MB)\n",
      "   ---------------------------------------- 0.0/2.6 MB ? eta -:--:--\n",
      "   ---------------------------------------- 0.0/2.6 MB ? eta -:--:--\n",
      "   - -------------------------------------- 0.1/2.6 MB ? eta -:--:--\n",
      "   - -------------------------------------- 0.1/2.6 MB 2.2 MB/s eta 0:00:02\n",
      "   --- ------------------------------------ 0.2/2.6 MB 1.8 MB/s eta 0:00:02\n",
      "   --- ------------------------------------ 0.2/2.6 MB 1.5 MB/s eta 0:00:02\n",
      "   ---- ----------------------------------- 0.3/2.6 MB 1.4 MB/s eta 0:00:02\n",
      "   ----- ---------------------------------- 0.4/2.6 MB 1.4 MB/s eta 0:00:02\n",
      "   ------- -------------------------------- 0.5/2.6 MB 1.4 MB/s eta 0:00:02\n",
      "   ------- -------------------------------- 0.5/2.6 MB 1.3 MB/s eta 0:00:02\n",
      "   ------- -------------------------------- 0.5/2.6 MB 1.3 MB/s eta 0:00:02\n",
      "   -------- ------------------------------- 0.6/2.6 MB 1.4 MB/s eta 0:00:02\n",
      "   --------- ------------------------------ 0.6/2.6 MB 1.3 MB/s eta 0:00:02\n",
      "   ---------- ----------------------------- 0.7/2.6 MB 1.3 MB/s eta 0:00:02\n",
      "   ----------- ---------------------------- 0.7/2.6 MB 1.3 MB/s eta 0:00:02\n",
      "   ------------ --------------------------- 0.8/2.6 MB 1.3 MB/s eta 0:00:02\n",
      "   ------------ --------------------------- 0.8/2.6 MB 1.3 MB/s eta 0:00:02\n",
      "   ------------- -------------------------- 0.9/2.6 MB 1.2 MB/s eta 0:00:02\n",
      "   -------------- ------------------------- 0.9/2.6 MB 1.2 MB/s eta 0:00:02\n",
      "   -------------- ------------------------- 1.0/2.6 MB 1.2 MB/s eta 0:00:02\n",
      "   ---------------- ----------------------- 1.1/2.6 MB 1.2 MB/s eta 0:00:02\n",
      "   ---------------- ----------------------- 1.1/2.6 MB 1.2 MB/s eta 0:00:02\n",
      "   ---------------- ----------------------- 1.1/2.6 MB 1.2 MB/s eta 0:00:02\n",
      "   ------------------ --------------------- 1.2/2.6 MB 1.2 MB/s eta 0:00:02\n",
      "   ------------------ --------------------- 1.2/2.6 MB 1.2 MB/s eta 0:00:02\n",
      "   -------------------- ------------------- 1.3/2.6 MB 1.2 MB/s eta 0:00:02\n",
      "   -------------------- ------------------- 1.4/2.6 MB 1.2 MB/s eta 0:00:02\n",
      "   ---------------------- ----------------- 1.5/2.6 MB 1.2 MB/s eta 0:00:01\n",
      "   ---------------------- ----------------- 1.5/2.6 MB 1.2 MB/s eta 0:00:01\n",
      "   ------------------------ --------------- 1.6/2.6 MB 1.2 MB/s eta 0:00:01\n",
      "   ------------------------ --------------- 1.6/2.6 MB 1.2 MB/s eta 0:00:01\n",
      "   ------------------------ --------------- 1.6/2.6 MB 1.2 MB/s eta 0:00:01\n",
      "   -------------------------- ------------- 1.7/2.6 MB 1.2 MB/s eta 0:00:01\n",
      "   -------------------------- ------------- 1.8/2.6 MB 1.2 MB/s eta 0:00:01\n",
      "   ---------------------------- ----------- 1.8/2.6 MB 1.2 MB/s eta 0:00:01\n",
      "   ---------------------------- ----------- 1.9/2.6 MB 1.2 MB/s eta 0:00:01\n",
      "   ------------------------------ --------- 2.0/2.6 MB 1.2 MB/s eta 0:00:01\n",
      "   ------------------------------ --------- 2.0/2.6 MB 1.2 MB/s eta 0:00:01\n",
      "   ------------------------------ --------- 2.0/2.6 MB 1.2 MB/s eta 0:00:01\n",
      "   -------------------------------- ------- 2.1/2.6 MB 1.2 MB/s eta 0:00:01\n",
      "   -------------------------------- ------- 2.2/2.6 MB 1.2 MB/s eta 0:00:01\n",
      "   ---------------------------------- ----- 2.2/2.6 MB 1.2 MB/s eta 0:00:01\n",
      "   ---------------------------------- ----- 2.3/2.6 MB 1.2 MB/s eta 0:00:01\n",
      "   ------------------------------------ --- 2.4/2.6 MB 1.2 MB/s eta 0:00:01\n",
      "   ------------------------------------ --- 2.4/2.6 MB 1.2 MB/s eta 0:00:01\n",
      "   -------------------------------------- - 2.5/2.6 MB 1.2 MB/s eta 0:00:01\n",
      "   -------------------------------------- - 2.5/2.6 MB 1.2 MB/s eta 0:00:01\n",
      "   ---------------------------------------  2.6/2.6 MB 1.2 MB/s eta 0:00:01\n",
      "   ---------------------------------------- 2.6/2.6 MB 1.2 MB/s eta 0:00:00\n",
      "Downloading pyparsing-3.2.1-py3-none-any.whl (107 kB)\n",
      "   ---------------------------------------- 0.0/107.7 kB ? eta -:--:--\n",
      "   --- ------------------------------------ 10.2/107.7 kB ? eta -:--:--\n",
      "   ---------------------------------------- 107.7/107.7 kB 1.5 MB/s eta 0:00:00\n",
      "Installing collected packages: pyparsing, pillow, kiwisolver, fonttools, cycler, contourpy, matplotlib\n",
      "Successfully installed contourpy-1.3.1 cycler-0.12.1 fonttools-4.55.6 kiwisolver-1.4.8 matplotlib-3.10.0 pillow-11.1.0 pyparsing-3.2.1\n",
      "Note: you may need to restart the kernel to use updated packages.\n"
     ]
    },
    {
     "name": "stderr",
     "output_type": "stream",
     "text": [
      "\n",
      "[notice] A new release of pip is available: 23.2.1 -> 24.3.1\n",
      "[notice] To update, run: python.exe -m pip install --upgrade pip\n"
     ]
    }
   ],
   "source": [
    "pip install matplotlib"
   ]
  },
  {
   "cell_type": "code",
   "execution_count": 122,
   "metadata": {},
   "outputs": [
    {
     "data": {
      "image/png": "[encoded data removed]",
      "text/plain": [
       "<Figure size 640x480 with 1 Axes>"
      ]
     },
     "metadata": {},
     "output_type": "display_data"
    }
   ],
   "source": [
    "import matplotlib.pyplot as plt\n",
    "\n",
    "x = [1, 2, 3, 4, 5]\n",
    "y = [2, 4, 6, 8, 10]\n",
    "\n",
    "plt.plot(x, y, marker='o')  # Line plot with markers\n",
    "plt.title(\"Line Plot\")\n",
    "plt.xlabel(\"X-axis\")\n",
    "plt.ylabel(\"Y-axis\")\n",
    "plt.grid(True)\n",
    "plt.show()\n"
   ]
  },
  {
   "cell_type": "code",
   "execution_count": null,
   "metadata": {},
   "outputs": [],
   "source": []
  }
 ],
 "metadata": {
  "kernelspec": {
   "display_name": "Python 3",
   "language": "python",
   "name": "python3"
  },
  "language_info": {
   "codemirror_mode": {
    "name": "ipython",
    "version": 3
   },
   "file_extension": ".py",
   "mimetype": "text/x-python",
   "name": "python",
   "nbconvert_exporter": "python",
   "pygments_lexer": "ipython3",
   "version": "3.11.4"
  }
 },
 "nbformat": 4,
 "nbformat_minor": 2
}
